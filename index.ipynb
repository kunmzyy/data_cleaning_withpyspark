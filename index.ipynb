{
 "cells": [
  {
   "cell_type": "code",
   "execution_count": 3,
   "id": "07083cd5",
   "metadata": {},
   "outputs": [],
   "source": [
    "from pyspark.sql import SparkSession\n",
    "spark = SparkSession.builder.appName('rheeza').getOrCreate()"
   ]
  },
  {
   "cell_type": "code",
   "execution_count": 4,
   "id": "621c51b4",
   "metadata": {},
   "outputs": [],
   "source": [
    "##understand the dataset\n",
    "trials_df=spark.read.json('dataset.json', multiLine=True)"
   ]
  },
  {
   "cell_type": "code",
   "execution_count": 5,
   "id": "6e06c278",
   "metadata": {},
   "outputs": [
    {
     "name": "stdout",
     "output_type": "stream",
     "text": [
      "+----------------+--------------------+---------+-----------------+-------------------+------------------------------+--------------------+\n",
      "|ageofparticipant|           clinician|drug_used|experimentenddate|experimentstartdate|noofhourspassedatfirstreaction|              result|\n",
      "+----------------+--------------------+---------+-----------------+-------------------+------------------------------+--------------------+\n",
      "|              19|{Ontario, Saul, t...|  Placebo|    1619827200000|      1617235200000|                            52|{BP normalized, r...|\n",
      "|              14|{Ontario, Saul, n...| Naproxen|    1619827200000|      1617235200000|                            78|    {Follow-up, N/A}|\n",
      "|              17|{Ontario, Saul, n...|  Placebo|    1619827200000|      1617235200000|                            14|    {Follow-up, N/A}|\n",
      "|              18|{Ontario, Will, n...| Naproxen|    1619827200000|      1617235200000|                            14|{BP normalized, N/A}|\n",
      "|              17|{Ontario, Patrick...| Naproxen|    1619827200000|      1617235200000|                            22|{No effect, rashe...|\n",
      "+----------------+--------------------+---------+-----------------+-------------------+------------------------------+--------------------+\n",
      "only showing top 5 rows\n",
      "\n"
     ]
    }
   ],
   "source": [
    "trials_df.show(5)"
   ]
  },
  {
   "cell_type": "code",
   "execution_count": 58,
   "id": "76a3b1ae",
   "metadata": {},
   "outputs": [
    {
     "name": "stdout",
     "output_type": "stream",
     "text": [
      "root\n",
      " |-- ageofparticipant: long (nullable = true)\n",
      " |-- clinician: struct (nullable = true)\n",
      " |    |-- branch: string (nullable = true)\n",
      " |    |-- name: string (nullable = true)\n",
      " |    |-- role: string (nullable = true)\n",
      " |-- drug_used: string (nullable = true)\n",
      " |-- experimentenddate: string (nullable = true)\n",
      " |-- experimentstartdate: string (nullable = true)\n",
      " |-- noofhourspassedatfirstreaction: long (nullable = true)\n",
      " |-- result: struct (nullable = true)\n",
      " |    |-- conclusion: string (nullable = true)\n",
      " |    |-- sideeffectsonparticipant: string (nullable = true)\n",
      "\n"
     ]
    }
   ],
   "source": [
    "##to see the structure of the data and to plan data processing effectively(flattening the data)\n",
    "trials_df.printSchema()"
   ]
  },
  {
   "cell_type": "code",
   "execution_count": 59,
   "id": "f8fa135b",
   "metadata": {},
   "outputs": [
    {
     "data": {
      "text/plain": [
       "['ageofparticipant',\n",
       " 'clinician',\n",
       " 'drug_used',\n",
       " 'experimentenddate',\n",
       " 'experimentstartdate',\n",
       " 'noofhourspassedatfirstreaction',\n",
       " 'result']"
      ]
     },
     "execution_count": 59,
     "metadata": {},
     "output_type": "execute_result"
    }
   ],
   "source": [
    "##to see columns so to perform operations on columns or to be able to select specific columns \n",
    "trials_df.columns\n"
   ]
  },
  {
   "cell_type": "code",
   "execution_count": 60,
   "id": "18dccb64",
   "metadata": {},
   "outputs": [],
   "source": [
    "columns = ['ageofparticipant',\n",
    " 'clinician.branch',\n",
    "'clinician.name',\n",
    "'clinician.role',\n",
    " 'drug_used',\n",
    " 'experimentenddate',\n",
    " 'experimentstartdate',\n",
    " 'noofhourspassedatfirstreaction',\n",
    " 'result.conclusion',\n",
    "'result.sideeffectsonparticipant']"
   ]
  },
  {
   "cell_type": "code",
   "execution_count": 61,
   "id": "1329b925",
   "metadata": {},
   "outputs": [
    {
     "name": "stdout",
     "output_type": "stream",
     "text": [
      "+----------------+-------+-------+---------+---------+-----------------+-------------------+------------------------------+-------------+------------------------+\n",
      "|ageofparticipant| branch|   name|     role|drug_used|experimentenddate|experimentstartdate|noofhourspassedatfirstreaction|   conclusion|sideeffectsonparticipant|\n",
      "+----------------+-------+-------+---------+---------+-----------------+-------------------+------------------------------+-------------+------------------------+\n",
      "|              19|Ontario|   Saul|therapist|  Placebo|    1619827200000|      1617235200000|                            52|BP normalized|          rashes on neck|\n",
      "|              14|Ontario|   Saul|    nurse| Naproxen|    1619827200000|      1617235200000|                            78|    Follow-up|                     N/A|\n",
      "|              17|Ontario|   Saul|    nurse|  Placebo|    1619827200000|      1617235200000|                            14|    Follow-up|                     N/A|\n",
      "|              18|Ontario|   Will|    nurse| Naproxen|    1619827200000|      1617235200000|                            14|BP normalized|                     N/A|\n",
      "|              17|Ontario|Patrick|   doctor| Naproxen|    1619827200000|      1617235200000|                            22|    No effect|          rashes on neck|\n",
      "+----------------+-------+-------+---------+---------+-----------------+-------------------+------------------------------+-------------+------------------------+\n",
      "only showing top 5 rows\n",
      "\n"
     ]
    }
   ],
   "source": [
    "trials_df.select(columns).show(5)"
   ]
  },
  {
   "cell_type": "code",
   "execution_count": 62,
   "id": "e59df2a7",
   "metadata": {},
   "outputs": [],
   "source": [
    "##inorder to access built in functions and expressions\n",
    "from pyspark.sql import functions as fn"
   ]
  },
  {
   "cell_type": "markdown",
   "id": "1a96c5eb",
   "metadata": {},
   "source": [
    "##counting null values per column\n",
    "trials_df.select([ fn.count(fn.when(fn.col(column).isNull(), column)).alias(column) for column in columns]).show()\n"
   ]
  },
  {
   "cell_type": "markdown",
   "id": "e890900b",
   "metadata": {},
   "source": [
    "##cleaning\n",
    "##flatten the df\n",
    "##address null values\n",
    "##rename columns"
   ]
  },
  {
   "cell_type": "code",
   "execution_count": 63,
   "id": "769bca30",
   "metadata": {},
   "outputs": [],
   "source": [
    "new_trials_df = trials_df.select(columns)"
   ]
  },
  {
   "cell_type": "code",
   "execution_count": 64,
   "id": "68bc30c5",
   "metadata": {},
   "outputs": [
    {
     "name": "stdout",
     "output_type": "stream",
     "text": [
      "root\n",
      " |-- ageofparticipant: long (nullable = true)\n",
      " |-- branch: string (nullable = true)\n",
      " |-- name: string (nullable = true)\n",
      " |-- role: string (nullable = true)\n",
      " |-- drug_used: string (nullable = true)\n",
      " |-- experimentenddate: string (nullable = true)\n",
      " |-- experimentstartdate: string (nullable = true)\n",
      " |-- noofhourspassedatfirstreaction: long (nullable = true)\n",
      " |-- conclusion: string (nullable = true)\n",
      " |-- sideeffectsonparticipant: string (nullable = true)\n",
      "\n"
     ]
    }
   ],
   "source": [
    "new_trials_df.printSchema()"
   ]
  },
  {
   "cell_type": "code",
   "execution_count": 65,
   "id": "e23c4973",
   "metadata": {},
   "outputs": [
    {
     "name": "stdout",
     "output_type": "stream",
     "text": [
      "+------------------+-------------+--------------+---------------+---------+-------------------+---------------------+-------------------------------------+-------------+--------------------------+\n",
      "|age_of_participant|clinic_branch|head_clinician|assistants_role|drug_used|experiment_end_date|experiment_start_date|no_of_hours_passed _at_first_reaction|   conclusion|side_effect_on_participant|\n",
      "+------------------+-------------+--------------+---------------+---------+-------------------+---------------------+-------------------------------------+-------------+--------------------------+\n",
      "|                19|      Ontario|          Saul|      therapist|  Placebo|      1619827200000|        1617235200000|                                   52|BP normalized|            rashes on neck|\n",
      "|                14|      Ontario|          Saul|          nurse| Naproxen|      1619827200000|        1617235200000|                                   78|    Follow-up|                       N/A|\n",
      "+------------------+-------------+--------------+---------------+---------+-------------------+---------------------+-------------------------------------+-------------+--------------------------+\n",
      "only showing top 2 rows\n",
      "\n"
     ]
    }
   ],
   "source": [
    "new_column_names = {\n",
    "    'ageofparticipant':'age_of_participant'\n",
    "    ,'branch': 'clinic_branch'\n",
    "    ,'name': 'head_clinician'\n",
    "    ,'role': 'assistants_role'\n",
    "    ,'experimentenddate':'experiment_end_date'\n",
    "    ,'experimentstartdate':'experiment_start_date'\n",
    "    ,'noofhourspassedatfirstreaction':'no_of_hours_passed _at_first_reaction'\n",
    "    ,'sideeffectsonparticipant':'side_effect_on_participant'\n",
    "}\n",
    "new_trials_df=new_trials_df.withColumnsRenamed(new_column_names)\n",
    "new_trials_df.show(2)\n"
   ]
  },
  {
   "cell_type": "code",
   "execution_count": 66,
   "id": "81819b4a",
   "metadata": {},
   "outputs": [
    {
     "data": {
      "text/plain": [
       "[('age_of_participant', 'bigint'),\n",
       " ('clinic_branch', 'string'),\n",
       " ('head_clinician', 'string'),\n",
       " ('assistants_role', 'string'),\n",
       " ('drug_used', 'string'),\n",
       " ('experiment_end_date', 'string'),\n",
       " ('experiment_start_date', 'string'),\n",
       " ('no_of_hours_passed _at_first_reaction', 'bigint'),\n",
       " ('conclusion', 'string'),\n",
       " ('side_effect_on_participant', 'string')]"
      ]
     },
     "execution_count": 66,
     "metadata": {},
     "output_type": "execute_result"
    }
   ],
   "source": [
    "new_trials_df.dtypes"
   ]
  },
  {
   "cell_type": "code",
   "execution_count": 67,
   "id": "93bef8a4",
   "metadata": {},
   "outputs": [
    {
     "name": "stdout",
     "output_type": "stream",
     "text": [
      "+-------+------------------+-------------+--------------+---------------+---------+--------------------+---------------------+-------------------------------------+-------------+--------------------------+\n",
      "|summary|age_of_participant|clinic_branch|head_clinician|assistants_role|drug_used| experiment_end_date|experiment_start_date|no_of_hours_passed _at_first_reaction|   conclusion|side_effect_on_participant|\n",
      "+-------+------------------+-------------+--------------+---------------+---------+--------------------+---------------------+-------------------------------------+-------------+--------------------------+\n",
      "|  count|              3586|         3586|          3586|           3477|     3586|                3586|                 3586|                                 3513|         3533|                      3586|\n",
      "|   mean|17.507250418293363|         null|          null|           null|     null|1.618381578137200...| 1.615813671834913...|                    44.89097637346997|         null|                      null|\n",
      "| stddev|2.3066401927555233|         null|          null|           null|     null|2.3250351904618263E9| 2.2862846039555306E9|                   24.540325490035848|         null|                      null|\n",
      "|    min|                14|      Alberta|        Colins|         doctor| Naproxen|       1614643200000|        1612137600000|                                    3|BP normalized|                       N/A|\n",
      "|    max|                21|       Quebec|       Windsor|      therapist|  Placebo|       1619827200000|        1617235200000|                                   87|    No effect|            rashes on neck|\n",
      "+-------+------------------+-------------+--------------+---------------+---------+--------------------+---------------------+-------------------------------------+-------------+--------------------------+\n",
      "\n"
     ]
    }
   ],
   "source": [
    "new_trials_df.describe().show()"
   ]
  },
  {
   "cell_type": "code",
   "execution_count": 68,
   "id": "da01c1f9",
   "metadata": {},
   "outputs": [],
   "source": [
    "new_trials_df=new_trials_df.na.fill({'conclusion':'unknown','assistants_role':'unknown'})"
   ]
  },
  {
   "cell_type": "code",
   "execution_count": 43,
   "id": "1d408799",
   "metadata": {},
   "outputs": [
    {
     "name": "stdout",
     "output_type": "stream",
     "text": [
      "+-------+------------------+-------+-------+---------+---------+--------------------+--------------------+------------------------------+-------------+------------------------+\n",
      "|summary|  ageofparticipant| branch|   name|     role|drug_used|   experimentenddate| experimentstartdate|noofhourspassedatfirstreaction|   conclusion|sideeffectsonparticipant|\n",
      "+-------+------------------+-------+-------+---------+---------+--------------------+--------------------+------------------------------+-------------+------------------------+\n",
      "|  count|              3586|   3586|   3586|     3477|     3586|                3586|                3586|                          3513|         3533|                    3586|\n",
      "|   mean|17.507250418293363|   null|   null|     null|     null|1.618381578137200...|1.615813671834913...|             44.89097637346997|         null|                    null|\n",
      "| stddev|2.3066401927555233|   null|   null|     null|     null|2.3250351904618263E9|2.2862846039555306E9|            24.540325490035848|         null|                    null|\n",
      "|    min|                14|Alberta| Colins|   doctor| Naproxen|       1614643200000|       1612137600000|                             3|BP normalized|                     N/A|\n",
      "|    max|                21| Quebec|Windsor|therapist|  Placebo|       1619827200000|       1617235200000|                            87|    No effect|          rashes on neck|\n",
      "+-------+------------------+-------+-------+---------+---------+--------------------+--------------------+------------------------------+-------------+------------------------+\n",
      "\n"
     ]
    }
   ],
   "source": [
    "new_trials_df.describe().show()"
   ]
  },
  {
   "cell_type": "markdown",
   "id": "78eda58f",
   "metadata": {},
   "source": [
    "Transormation\n",
    "#transorming experiment start and end date to datetype"
   ]
  },
  {
   "cell_type": "code",
   "execution_count": 72,
   "id": "5f98d19c",
   "metadata": {},
   "outputs": [
    {
     "name": "stdout",
     "output_type": "stream",
     "text": [
      "root\n",
      " |-- age_of_participant: long (nullable = true)\n",
      " |-- clinic_branch: string (nullable = true)\n",
      " |-- head_clinician: string (nullable = true)\n",
      " |-- assistants_role: string (nullable = false)\n",
      " |-- drug_used: string (nullable = true)\n",
      " |-- experiment_end_date: string (nullable = true)\n",
      " |-- experiment_start_date: string (nullable = true)\n",
      " |-- no_of_hours_passed _at_first_reaction: long (nullable = true)\n",
      " |-- conclusion: string (nullable = false)\n",
      " |-- side_effect_on_participant: string (nullable = true)\n",
      " |-- start_ts: timestamp (nullable = true)\n",
      " |-- end_ts: timestamp (nullable = true)\n",
      "\n"
     ]
    }
   ],
   "source": [
    "new_trials_df.printSchema()\n"
   ]
  },
  {
   "cell_type": "code",
   "execution_count": 70,
   "id": "69943bff",
   "metadata": {},
   "outputs": [],
   "source": [
    "from pyspark.sql import types as dtypes"
   ]
  },
  {
   "cell_type": "code",
   "execution_count": 73,
   "id": "2f763c6f",
   "metadata": {},
   "outputs": [
    {
     "data": {
      "text/plain": [
       "DataFrame[age_of_participant: bigint, clinic_branch: string, head_clinician: string, assistants_role: string, drug_used: string, experiment_end_date: string, experiment_start_date: string, no_of_hours_passed _at_first_reaction: bigint, conclusion: string, side_effect_on_participant: string, start_ts: timestamp, end_ts: timestamp]"
      ]
     },
     "execution_count": 73,
     "metadata": {},
     "output_type": "execute_result"
    }
   ],
   "source": [
    "##convert datatype to long int\n",
    "##divide by 1000\n",
    "##convert from unix to datetime\n",
    "new_trials_df=new_trials_df\\\n",
    "    .withColumn('start_ts', fn.from_unixtime(fn.col('experiment_start_date').cast(dtypes.LongType())/1000, 'yyyy-MM-dd HH:mm:ss'))\\\n",
    "    .withColumn('start_ts', fn.col('start_ts').cast(dtypes.TimestampType()))\\\n",
    "            .withColumn('end_ts', fn.from_unixtime(fn.col('experiment_end_date').cast(dtypes.LongType())/1000, 'yyyy-MM-dd HH:mm:ss'))\\\n",
    "            .withColumn('end_ts', fn.col('end_ts').cast(dtypes.TimestampType()))\n",
    "\n"
   ]
  },
  {
   "cell_type": "code",
   "execution_count": 74,
   "id": "e32f4da7",
   "metadata": {},
   "outputs": [
    {
     "name": "stdout",
     "output_type": "stream",
     "text": [
      "+------------------+-------------+--------------+---------------+---------+-------------------+---------------------+-------------------------------------+-------------+--------------------------+-------------------+-------------------+\n",
      "|age_of_participant|clinic_branch|head_clinician|assistants_role|drug_used|experiment_end_date|experiment_start_date|no_of_hours_passed _at_first_reaction|   conclusion|side_effect_on_participant|           start_ts|             end_ts|\n",
      "+------------------+-------------+--------------+---------------+---------+-------------------+---------------------+-------------------------------------+-------------+--------------------------+-------------------+-------------------+\n",
      "|                19|      Ontario|          Saul|      therapist|  Placebo|      1619827200000|        1617235200000|                                   52|BP normalized|            rashes on neck|2021-04-01 01:00:00|2021-05-01 01:00:00|\n",
      "|                14|      Ontario|          Saul|          nurse| Naproxen|      1619827200000|        1617235200000|                                   78|    Follow-up|                       N/A|2021-04-01 01:00:00|2021-05-01 01:00:00|\n",
      "|                17|      Ontario|          Saul|          nurse|  Placebo|      1619827200000|        1617235200000|                                   14|    Follow-up|                       N/A|2021-04-01 01:00:00|2021-05-01 01:00:00|\n",
      "+------------------+-------------+--------------+---------------+---------+-------------------+---------------------+-------------------------------------+-------------+--------------------------+-------------------+-------------------+\n",
      "only showing top 3 rows\n",
      "\n"
     ]
    }
   ],
   "source": [
    "new_trials_df.show(3)"
   ]
  },
  {
   "cell_type": "code",
   "execution_count": null,
   "id": "56e971bb",
   "metadata": {},
   "outputs": [],
   "source": []
  }
 ],
 "metadata": {
  "kernelspec": {
   "display_name": "Python 3 (ipykernel)",
   "language": "python",
   "name": "python3"
  },
  "language_info": {
   "codemirror_mode": {
    "name": "ipython",
    "version": 3
   },
   "file_extension": ".py",
   "mimetype": "text/x-python",
   "name": "python",
   "nbconvert_exporter": "python",
   "pygments_lexer": "ipython3",
   "version": "3.10.9"
  }
 },
 "nbformat": 4,
 "nbformat_minor": 5
}
